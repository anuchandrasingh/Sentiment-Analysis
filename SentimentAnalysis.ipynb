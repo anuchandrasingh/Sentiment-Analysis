{
  "nbformat": 4,
  "nbformat_minor": 0,
  "metadata": {
    "colab": {
      "provenance": []
    },
    "kernelspec": {
      "name": "python3",
      "display_name": "Python 3"
    },
    "language_info": {
      "name": "python"
    }
  },
  "cells": [
    {
      "cell_type": "markdown",
      "source": [
        "**Business Overview:**\n",
        "\n",
        "ExpressWay Logistics is a dynamic logistics service provider, committed to delivering efficient, reliable and cost-effective courier transportation and warehousing solutions. With a focus on speed, precision and customer satisfaction, we aim to be the go-to partner for our customers seeking seamless courier services. Our core service involves ensuring operational efficiency throughout our delivery and courier services, including inventory management, durable packaging and swift dispatch of couriers, real time tracking of shipments and on-time delivery of couriers as promised. We are committed to enhance our logistics and courier services and improve seamless connectivity for our customers."
      ],
      "metadata": {
        "id": "QSec3rr3MtWv"
      }
    },
    {
      "cell_type": "markdown",
      "source": [
        "**Objective:**\n",
        "\n",
        "Our primary objective is to conduct a sentiment analysis of user-generated reviews across various digital channels and platforms. By paying attention to their feedback, we want to find ways to make our services better - like handling different customer demands simultaneously, dealing with late deliveries, and keeping packages secured and intact. Through the application of prompt engineering methodologies and sentiment analysis, we'll figure out if sentiments expressed by users for our courier services are Positive or Negative. This will help us understand where we need to improve in order to meet customer expectations and keep them happy. With a focus on getting better all the time, we'll overcome the challenges at ExpressWay Logistics and make our services the best."
      ],
      "metadata": {
        "id": "9s-tEOV2NGFy"
      }
    },
    {
      "cell_type": "markdown",
      "source": [
        "**Current Challenge:**\n",
        "\n",
        "ExpressWay Logistics faces numerous challenges in ensuring seamless deliveries and customer satisfaction. These challenges include managing various customer demands simultaneously, addressing delays in deliveries and ensuring products arrive intact and safe. Additionally, the company struggles with complexity of efficiently storing and handling a large volume of packages and ultimately meeting customer expectations. Moreover, maintaining a skilled workforce capable of handling various aspects of logistics operations presents its own set of challenges. Overcoming these obstacles requires a comprehensive approach that integrates innovative technology, strategic planning, and continuous improvement initiatives to ensure smooth operations and exceptional service delivery."
      ],
      "metadata": {
        "id": "u7vexrbDNOuJ"
      }
    },
    {
      "cell_type": "markdown",
      "source": [],
      "metadata": {
        "id": "jJd5iVswNR_Q"
      }
    },
    {
      "cell_type": "markdown",
      "source": [
        "**Data Description:**\n",
        "\n",
        "The dataset titled \"courier-service_reviews.csv\" is structured to facilitate sentiment analysis for courier service reviews. Here's a brief description of the data columns:\n",
        "\n",
        "1. id: This column contains unique identifiers for each review entry. It helps in distinguishing and referencing individual reviews.\n",
        "2. review: This column includes the actual text of the courier service reviews. The reviews are likely composed of customer opinions and experiences regarding different aspects of the services provided by ExpressWay Logistics.\n",
        "3. sentiment: This column provides an additional layer of classification (positive and negative) for the mentioned reviews."
      ],
      "metadata": {
        "id": "nIfi1Vc8NSzT"
      }
    },
    {
      "cell_type": "markdown",
      "source": [],
      "metadata": {
        "id": "aSyR6JZMNXMF"
      }
    },
    {
      "cell_type": "markdown",
      "source": [
        "##**Step 1. Setup (2 Marks)**\n",
        "\n",
        "(A) Writing/Creating the config.json file  ()"
      ],
      "metadata": {
        "id": "6OgFO0ezNYYX"
      }
    },
    {
      "cell_type": "markdown",
      "source": [],
      "metadata": {
        "id": "gfQk5wELl3KX"
      }
    },
    {
      "cell_type": "code",
      "source": [
        "!pip install tiktoken\n"
      ],
      "metadata": {
        "colab": {
          "base_uri": "https://localhost:8080/"
        },
        "id": "YuG6NuIKO4Bf",
        "outputId": "892a2bdf-b1c2-4400-ed0c-bec872d3dd51"
      },
      "execution_count": null,
      "outputs": [
        {
          "output_type": "stream",
          "name": "stdout",
          "text": [
            "Collecting tiktoken\n",
            "  Downloading tiktoken-0.8.0-cp310-cp310-manylinux_2_17_x86_64.manylinux2014_x86_64.whl.metadata (6.6 kB)\n",
            "Requirement already satisfied: regex>=2022.1.18 in /usr/local/lib/python3.10/dist-packages (from tiktoken) (2024.11.6)\n",
            "Requirement already satisfied: requests>=2.26.0 in /usr/local/lib/python3.10/dist-packages (from tiktoken) (2.32.3)\n",
            "Requirement already satisfied: charset-normalizer<4,>=2 in /usr/local/lib/python3.10/dist-packages (from requests>=2.26.0->tiktoken) (3.4.0)\n",
            "Requirement already satisfied: idna<4,>=2.5 in /usr/local/lib/python3.10/dist-packages (from requests>=2.26.0->tiktoken) (3.10)\n",
            "Requirement already satisfied: urllib3<3,>=1.21.1 in /usr/local/lib/python3.10/dist-packages (from requests>=2.26.0->tiktoken) (2.2.3)\n",
            "Requirement already satisfied: certifi>=2017.4.17 in /usr/local/lib/python3.10/dist-packages (from requests>=2.26.0->tiktoken) (2024.12.14)\n",
            "Downloading tiktoken-0.8.0-cp310-cp310-manylinux_2_17_x86_64.manylinux2014_x86_64.whl (1.2 MB)\n",
            "\u001b[?25l   \u001b[90m━━━━━━━━━━━━━━━━━━━━━━━━━━━━━━━━━━━━━━━━\u001b[0m \u001b[32m0.0/1.2 MB\u001b[0m \u001b[31m?\u001b[0m eta \u001b[36m-:--:--\u001b[0m\r\u001b[2K   \u001b[90m━━━━━━━━━━━━━━━━━━━━━━━━━━━━━━━━━━━━━━━━\u001b[0m \u001b[32m1.2/1.2 MB\u001b[0m \u001b[31m47.6 MB/s\u001b[0m eta \u001b[36m0:00:00\u001b[0m\n",
            "\u001b[?25hInstalling collected packages: tiktoken\n",
            "Successfully installed tiktoken-0.8.0\n"
          ]
        }
      ]
    },
    {
      "cell_type": "code",
      "source": [
        "# Install the required packages\n",
        "!pip install openai pandas scikit-learn tqdm tabulate\n",
        "\n",
        "# Import necessary libraries\n",
        "from openai import AzureOpenAI\n",
        "import json\n",
        "import random\n",
        "import tiktoken\n",
        "import pandas as pd\n",
        "import numpy as np\n",
        "from collections import Counter\n",
        "from tqdm import tqdm\n",
        "from sklearn.model_selection import train_test_split\n",
        "from sklearn.metrics import f1_score\n",
        "from tabulate import tabulate\n",
        "\n",
        "\n"
      ],
      "metadata": {
        "colab": {
          "base_uri": "https://localhost:8080/"
        },
        "id": "GjDwDbu3ORl-",
        "outputId": "1556706f-4c90-4d8c-a20b-687d435c4836"
      },
      "execution_count": null,
      "outputs": [
        {
          "output_type": "stream",
          "name": "stdout",
          "text": [
            "Requirement already satisfied: openai in /usr/local/lib/python3.10/dist-packages (1.57.4)\n",
            "Requirement already satisfied: pandas in /usr/local/lib/python3.10/dist-packages (2.2.2)\n",
            "Requirement already satisfied: scikit-learn in /usr/local/lib/python3.10/dist-packages (1.6.0)\n",
            "Requirement already satisfied: tqdm in /usr/local/lib/python3.10/dist-packages (4.67.1)\n",
            "Requirement already satisfied: tabulate in /usr/local/lib/python3.10/dist-packages (0.9.0)\n",
            "Requirement already satisfied: anyio<5,>=3.5.0 in /usr/local/lib/python3.10/dist-packages (from openai) (3.7.1)\n",
            "Requirement already satisfied: distro<2,>=1.7.0 in /usr/local/lib/python3.10/dist-packages (from openai) (1.9.0)\n",
            "Requirement already satisfied: httpx<1,>=0.23.0 in /usr/local/lib/python3.10/dist-packages (from openai) (0.28.1)\n",
            "Requirement already satisfied: jiter<1,>=0.4.0 in /usr/local/lib/python3.10/dist-packages (from openai) (0.8.2)\n",
            "Requirement already satisfied: pydantic<3,>=1.9.0 in /usr/local/lib/python3.10/dist-packages (from openai) (2.10.3)\n",
            "Requirement already satisfied: sniffio in /usr/local/lib/python3.10/dist-packages (from openai) (1.3.1)\n",
            "Requirement already satisfied: typing-extensions<5,>=4.11 in /usr/local/lib/python3.10/dist-packages (from openai) (4.12.2)\n",
            "Requirement already satisfied: numpy>=1.22.4 in /usr/local/lib/python3.10/dist-packages (from pandas) (1.26.4)\n",
            "Requirement already satisfied: python-dateutil>=2.8.2 in /usr/local/lib/python3.10/dist-packages (from pandas) (2.8.2)\n",
            "Requirement already satisfied: pytz>=2020.1 in /usr/local/lib/python3.10/dist-packages (from pandas) (2024.2)\n",
            "Requirement already satisfied: tzdata>=2022.7 in /usr/local/lib/python3.10/dist-packages (from pandas) (2024.2)\n",
            "Requirement already satisfied: scipy>=1.6.0 in /usr/local/lib/python3.10/dist-packages (from scikit-learn) (1.13.1)\n",
            "Requirement already satisfied: joblib>=1.2.0 in /usr/local/lib/python3.10/dist-packages (from scikit-learn) (1.4.2)\n",
            "Requirement already satisfied: threadpoolctl>=3.1.0 in /usr/local/lib/python3.10/dist-packages (from scikit-learn) (3.5.0)\n",
            "Requirement already satisfied: idna>=2.8 in /usr/local/lib/python3.10/dist-packages (from anyio<5,>=3.5.0->openai) (3.10)\n",
            "Requirement already satisfied: exceptiongroup in /usr/local/lib/python3.10/dist-packages (from anyio<5,>=3.5.0->openai) (1.2.2)\n",
            "Requirement already satisfied: certifi in /usr/local/lib/python3.10/dist-packages (from httpx<1,>=0.23.0->openai) (2024.12.14)\n",
            "Requirement already satisfied: httpcore==1.* in /usr/local/lib/python3.10/dist-packages (from httpx<1,>=0.23.0->openai) (1.0.7)\n",
            "Requirement already satisfied: h11<0.15,>=0.13 in /usr/local/lib/python3.10/dist-packages (from httpcore==1.*->httpx<1,>=0.23.0->openai) (0.14.0)\n",
            "Requirement already satisfied: annotated-types>=0.6.0 in /usr/local/lib/python3.10/dist-packages (from pydantic<3,>=1.9.0->openai) (0.7.0)\n",
            "Requirement already satisfied: pydantic-core==2.27.1 in /usr/local/lib/python3.10/dist-packages (from pydantic<3,>=1.9.0->openai) (2.27.1)\n",
            "Requirement already satisfied: six>=1.5 in /usr/local/lib/python3.10/dist-packages (from python-dateutil>=2.8.2->pandas) (1.17.0)\n"
          ]
        }
      ]
    },
    {
      "cell_type": "code",
      "source": [
        "!pip install session-info\n"
      ],
      "metadata": {
        "colab": {
          "base_uri": "https://localhost:8080/"
        },
        "id": "L2VZE4SVPb5i",
        "outputId": "703d6eaa-8fcb-4072-9f5e-e24c4613265a"
      },
      "execution_count": null,
      "outputs": [
        {
          "output_type": "stream",
          "name": "stdout",
          "text": [
            "Collecting session-info\n",
            "  Downloading session_info-1.0.0.tar.gz (24 kB)\n",
            "  Preparing metadata (setup.py) ... \u001b[?25l\u001b[?25hdone\n",
            "Collecting stdlib_list (from session-info)\n",
            "  Downloading stdlib_list-0.11.0-py3-none-any.whl.metadata (3.3 kB)\n",
            "Downloading stdlib_list-0.11.0-py3-none-any.whl (83 kB)\n",
            "\u001b[2K   \u001b[90m━━━━━━━━━━━━━━━━━━━━━━━━━━━━━━━━━━━━━━━━\u001b[0m \u001b[32m83.6/83.6 kB\u001b[0m \u001b[31m3.5 MB/s\u001b[0m eta \u001b[36m0:00:00\u001b[0m\n",
            "\u001b[?25hBuilding wheels for collected packages: session-info\n",
            "  Building wheel for session-info (setup.py) ... \u001b[?25l\u001b[?25hdone\n",
            "  Created wheel for session-info: filename=session_info-1.0.0-py3-none-any.whl size=8023 sha256=44f04b29a5405a9075d166bb3a97b05f67a1411237987e062e8844d25d57b67a\n",
            "  Stored in directory: /root/.cache/pip/wheels/6a/aa/b9/eb5d4031476ec10802795b97ccf937b9bd998d68a9b268765a\n",
            "Successfully built session-info\n",
            "Installing collected packages: stdlib_list, session-info\n",
            "Successfully installed session-info-1.0.0 stdlib_list-0.11.0\n"
          ]
        }
      ]
    },
    {
      "cell_type": "code",
      "source": [
        "import session_info\n"
      ],
      "metadata": {
        "id": "aI7H-P9aPege"
      },
      "execution_count": null,
      "outputs": []
    },
    {
      "cell_type": "code",
      "source": [
        "session_info.show()\n"
      ],
      "metadata": {
        "colab": {
          "base_uri": "https://localhost:8080/",
          "height": 34
        },
        "id": "bt1HzZHgPgmE",
        "outputId": "b92ef8fc-77c7-4a71-8b32-181fc2debf88"
      },
      "execution_count": null,
      "outputs": [
        {
          "output_type": "execute_result",
          "data": {
            "text/plain": [
              "<IPython.core.display.HTML object>"
            ],
            "text/html": [
              "<details>\n",
              "<summary>Click to view session information</summary>\n",
              "<pre>\n",
              "-----\n",
              "google              NA\n",
              "numpy               1.26.4\n",
              "openai              1.57.4\n",
              "pandas              2.2.2\n",
              "session_info        1.0.0\n",
              "sklearn             1.6.0\n",
              "tabulate            0.9.0\n",
              "tiktoken            0.8.0\n",
              "tqdm                4.67.1\n",
              "-----\n",
              "</pre>\n",
              "<details>\n",
              "<summary>Click to view modules imported as dependencies</summary>\n",
              "<pre>\n",
              "Cython              3.0.11\n",
              "PIL                 11.0.0\n",
              "annotated_types     0.7.0\n",
              "anyio               NA\n",
              "attr                24.3.0\n",
              "backcall            0.2.0\n",
              "backports           NA\n",
              "bottleneck          1.4.2\n",
              "certifi             2024.12.14\n",
              "click               8.1.7\n",
              "cloudpickle         3.1.0\n",
              "cycler              0.12.1\n",
              "cython              3.0.11\n",
              "cython_runtime      NA\n",
              "dateutil            2.8.2\n",
              "debugpy             1.8.0\n",
              "decorator           4.4.2\n",
              "defusedxml          0.7.1\n",
              "distro              1.9.0\n",
              "entrypoints         0.4\n",
              "httplib2            0.22.0\n",
              "httpx               0.28.1\n",
              "idna                3.10\n",
              "importlib_metadata  NA\n",
              "ipykernel           5.5.6\n",
              "ipyparallel         8.8.0\n",
              "ipython_genutils    0.2.0\n",
              "jaraco              NA\n",
              "jiter               0.8.2\n",
              "joblib              1.4.2\n",
              "kiwisolver          1.4.7\n",
              "matplotlib          3.8.0\n",
              "matplotlib_inline   0.1.7\n",
              "more_itertools      10.5.0\n",
              "mpl_toolkits        NA\n",
              "numexpr             2.10.2\n",
              "packaging           24.2\n",
              "pexpect             4.9.0\n",
              "pickleshare         0.7.5\n",
              "platformdirs        4.3.6\n",
              "portpicker          NA\n",
              "prompt_toolkit      3.0.48\n",
              "psutil              5.9.5\n",
              "ptyprocess          0.7.0\n",
              "pyarrow             17.0.0\n",
              "pydantic            2.10.3\n",
              "pydantic_core       2.27.1\n",
              "pydev_ipython       NA\n",
              "pydevconsole        NA\n",
              "pydevd              2.9.5\n",
              "pydevd_file_utils   NA\n",
              "pydevd_plugins      NA\n",
              "pydevd_tracing      NA\n",
              "pygments            2.18.0\n",
              "pyparsing           3.2.0\n",
              "pytz                2024.2\n",
              "regex               2.5.148\n",
              "rich                NA\n",
              "scipy               1.13.1\n",
              "setuptools          75.1.0\n",
              "sitecustomize       NA\n",
              "six                 1.17.0\n",
              "sniffio             1.3.1\n",
              "socks               1.7.1\n",
              "sphinxcontrib       NA\n",
              "storemagic          NA\n",
              "threadpoolctl       3.5.0\n",
              "tiktoken_ext        NA\n",
              "tornado             6.3.3\n",
              "traitlets           5.7.1\n",
              "typing_extensions   NA\n",
              "wcwidth             0.2.13\n",
              "zipp                NA\n",
              "zmq                 24.0.1\n",
              "zoneinfo            NA\n",
              "</pre>\n",
              "</details> <!-- seems like this ends pre, so might as well be explicit -->\n",
              "<pre>\n",
              "-----\n",
              "IPython             7.34.0\n",
              "jupyter_client      6.1.12\n",
              "jupyter_core        5.7.2\n",
              "notebook            6.5.5\n",
              "-----\n",
              "Python 3.10.12 (main, Nov  6 2024, 20:22:13) [GCC 11.4.0]\n",
              "Linux-6.1.85+-x86_64-with-glibc2.35\n",
              "-----\n",
              "Session information updated at 2024-12-25 22:51\n",
              "</pre>\n",
              "</details>"
            ]
          },
          "metadata": {},
          "execution_count": 33
        }
      ]
    },
    {
      "cell_type": "markdown",
      "source": [
        "### Authentication"
      ],
      "metadata": {
        "id": "NdIsepUUPoNU"
      }
    },
    {
      "cell_type": "markdown",
      "source": [
        "**(A) Writing/Creating the config.json file ()**"
      ],
      "metadata": {
        "id": "IGLqFpJbPpdQ"
      }
    },
    {
      "cell_type": "code",
      "source": [
        "import json  # Import the JSON module\n",
        "# Define your configuration information\n",
        "config_data = {\n",
        "    \"AZURE_OPENAI_KEY\": \"\",            #Replace it with your credentials\n",
        "    \"AZURE_OPENAI_ENDPOINT\": \"\",      #Replace it with your credentials\n",
        "    \"AZURE_OPENAI_APIVERSION\": \"2024-05-01\", #Replace it with your credentials\n",
        "    \"CHATGPT_MODEL\": \"gpt-35-turbo\"             #Replace it with your credentials\n",
        "}\n",
        "\n",
        "\n",
        "# Write the configuration information into the config.json file\n",
        "with open('config.json', 'w') as config_file:\n",
        "    json.dump(config_data, config_file, indent=4)\n",
        "\n",
        "print(\"Config file created successfully!\")\n"
      ],
      "metadata": {
        "colab": {
          "base_uri": "https://localhost:8080/"
        },
        "id": "-bv1V6bP9X3z",
        "outputId": "c974a665-c961-44bb-f8de-565f1ba9559e"
      },
      "execution_count": null,
      "outputs": [
        {
          "output_type": "stream",
          "name": "stdout",
          "text": [
            "Config file created successfully!\n"
          ]
        }
      ]
    },
    {
      "cell_type": "code",
      "source": [
        "with open('config.json', 'r') as az_creds:\n",
        "    data = az_creds.read()"
      ],
      "metadata": {
        "id": "sgAfFIv3QA_Q"
      },
      "execution_count": null,
      "outputs": []
    },
    {
      "cell_type": "code",
      "source": [
        "creds = json.loads(data)"
      ],
      "metadata": {
        "id": "-Zyw9Tk_QEL-"
      },
      "execution_count": null,
      "outputs": []
    },
    {
      "cell_type": "code",
      "source": [
        "def num_tokens_from_messages(messages):\n",
        "\n",
        "    \"\"\"\n",
        "    Return the number of tokens used by a list of messages.\n",
        "    Adapted from the Open AI cookbook token counter\n",
        "    \"\"\"\n",
        "\n",
        "    encoding = tiktoken.encoding_for_model(\"gpt-3.5-turbo\")\n",
        "\n",
        "    # Each message is sandwiched with <|start|>role and <|end|>\n",
        "    # Hence, messages look like: <|start|>system or user or assistant{message}<|end|>\n",
        "\n",
        "    tokens_per_message = 3 # token1:<|start|>, token2:system(or user or assistant), token3:<|end|>\n",
        "\n",
        "    num_tokens = 0\n",
        "\n",
        "    for message in messages:\n",
        "        num_tokens += tokens_per_message\n",
        "        for key, value in message.items():\n",
        "            num_tokens += len(encoding.encode(value))\n",
        "\n",
        "    num_tokens += 3  # every reply is primed with <|start|>assistant<|message|>\n",
        "\n",
        "    return num_tokens"
      ],
      "metadata": {
        "id": "SB0aFxk8QOGF"
      },
      "execution_count": null,
      "outputs": []
    },
    {
      "cell_type": "code",
      "source": [
        "## Task : Sentiment Analysis"
      ],
      "metadata": {
        "id": "WFmKw9hPQSBX"
      },
      "execution_count": null,
      "outputs": []
    },
    {
      "cell_type": "markdown",
      "source": [
        "##**Step 2: Assemble Data (5 Marks)**\n",
        "\n",
        "(A) Upload and Read csv File (2 Marks)\n",
        "\n",
        "(B) Count Positive and Negative Sentiment Reviews (1 Marks)\n",
        "\n",
        "(C) Split the Dataset (2 Marks)"
      ],
      "metadata": {
        "id": "RA-jjStIQbf6"
      }
    },
    {
      "cell_type": "code",
      "source": [
        "import pandas as pd\n",
        "\n"
      ],
      "metadata": {
        "id": "4miAQf8mQjqj"
      },
      "execution_count": null,
      "outputs": []
    },
    {
      "cell_type": "code",
      "source": [
        "from google.colab import files\n",
        "import pandas as pd  # Import pandas\n",
        "\n",
        "# Upload the CSV file\n",
        "uploaded = files.upload()\n",
        "\n",
        "# Load the dataset into a DataFrame\n",
        "cs_reviews_df = \"courier-service_reviews.csv\"  # Replace with your file name\n",
        "data = pd.read_csv(cs_reviews_df)\n",
        "\n",
        "# Display the first few rows of the data to verify\n",
        "data.head()\n"
      ],
      "metadata": {
        "colab": {
          "base_uri": "https://localhost:8080/",
          "height": 256
        },
        "id": "84D1N1h-BA7T",
        "outputId": "d87a86c3-bbc8-4333-9f05-555ab6ca76e0"
      },
      "execution_count": null,
      "outputs": [
        {
          "output_type": "display_data",
          "data": {
            "text/plain": [
              "<IPython.core.display.HTML object>"
            ],
            "text/html": [
              "\n",
              "     <input type=\"file\" id=\"files-c91f3362-2fff-4af1-89fe-85e29919de6e\" name=\"files[]\" multiple disabled\n",
              "        style=\"border:none\" />\n",
              "     <output id=\"result-c91f3362-2fff-4af1-89fe-85e29919de6e\">\n",
              "      Upload widget is only available when the cell has been executed in the\n",
              "      current browser session. Please rerun this cell to enable.\n",
              "      </output>\n",
              "      <script>// Copyright 2017 Google LLC\n",
              "//\n",
              "// Licensed under the Apache License, Version 2.0 (the \"License\");\n",
              "// you may not use this file except in compliance with the License.\n",
              "// You may obtain a copy of the License at\n",
              "//\n",
              "//      http://www.apache.org/licenses/LICENSE-2.0\n",
              "//\n",
              "// Unless required by applicable law or agreed to in writing, software\n",
              "// distributed under the License is distributed on an \"AS IS\" BASIS,\n",
              "// WITHOUT WARRANTIES OR CONDITIONS OF ANY KIND, either express or implied.\n",
              "// See the License for the specific language governing permissions and\n",
              "// limitations under the License.\n",
              "\n",
              "/**\n",
              " * @fileoverview Helpers for google.colab Python module.\n",
              " */\n",
              "(function(scope) {\n",
              "function span(text, styleAttributes = {}) {\n",
              "  const element = document.createElement('span');\n",
              "  element.textContent = text;\n",
              "  for (const key of Object.keys(styleAttributes)) {\n",
              "    element.style[key] = styleAttributes[key];\n",
              "  }\n",
              "  return element;\n",
              "}\n",
              "\n",
              "// Max number of bytes which will be uploaded at a time.\n",
              "const MAX_PAYLOAD_SIZE = 100 * 1024;\n",
              "\n",
              "function _uploadFiles(inputId, outputId) {\n",
              "  const steps = uploadFilesStep(inputId, outputId);\n",
              "  const outputElement = document.getElementById(outputId);\n",
              "  // Cache steps on the outputElement to make it available for the next call\n",
              "  // to uploadFilesContinue from Python.\n",
              "  outputElement.steps = steps;\n",
              "\n",
              "  return _uploadFilesContinue(outputId);\n",
              "}\n",
              "\n",
              "// This is roughly an async generator (not supported in the browser yet),\n",
              "// where there are multiple asynchronous steps and the Python side is going\n",
              "// to poll for completion of each step.\n",
              "// This uses a Promise to block the python side on completion of each step,\n",
              "// then passes the result of the previous step as the input to the next step.\n",
              "function _uploadFilesContinue(outputId) {\n",
              "  const outputElement = document.getElementById(outputId);\n",
              "  const steps = outputElement.steps;\n",
              "\n",
              "  const next = steps.next(outputElement.lastPromiseValue);\n",
              "  return Promise.resolve(next.value.promise).then((value) => {\n",
              "    // Cache the last promise value to make it available to the next\n",
              "    // step of the generator.\n",
              "    outputElement.lastPromiseValue = value;\n",
              "    return next.value.response;\n",
              "  });\n",
              "}\n",
              "\n",
              "/**\n",
              " * Generator function which is called between each async step of the upload\n",
              " * process.\n",
              " * @param {string} inputId Element ID of the input file picker element.\n",
              " * @param {string} outputId Element ID of the output display.\n",
              " * @return {!Iterable<!Object>} Iterable of next steps.\n",
              " */\n",
              "function* uploadFilesStep(inputId, outputId) {\n",
              "  const inputElement = document.getElementById(inputId);\n",
              "  inputElement.disabled = false;\n",
              "\n",
              "  const outputElement = document.getElementById(outputId);\n",
              "  outputElement.innerHTML = '';\n",
              "\n",
              "  const pickedPromise = new Promise((resolve) => {\n",
              "    inputElement.addEventListener('change', (e) => {\n",
              "      resolve(e.target.files);\n",
              "    });\n",
              "  });\n",
              "\n",
              "  const cancel = document.createElement('button');\n",
              "  inputElement.parentElement.appendChild(cancel);\n",
              "  cancel.textContent = 'Cancel upload';\n",
              "  const cancelPromise = new Promise((resolve) => {\n",
              "    cancel.onclick = () => {\n",
              "      resolve(null);\n",
              "    };\n",
              "  });\n",
              "\n",
              "  // Wait for the user to pick the files.\n",
              "  const files = yield {\n",
              "    promise: Promise.race([pickedPromise, cancelPromise]),\n",
              "    response: {\n",
              "      action: 'starting',\n",
              "    }\n",
              "  };\n",
              "\n",
              "  cancel.remove();\n",
              "\n",
              "  // Disable the input element since further picks are not allowed.\n",
              "  inputElement.disabled = true;\n",
              "\n",
              "  if (!files) {\n",
              "    return {\n",
              "      response: {\n",
              "        action: 'complete',\n",
              "      }\n",
              "    };\n",
              "  }\n",
              "\n",
              "  for (const file of files) {\n",
              "    const li = document.createElement('li');\n",
              "    li.append(span(file.name, {fontWeight: 'bold'}));\n",
              "    li.append(span(\n",
              "        `(${file.type || 'n/a'}) - ${file.size} bytes, ` +\n",
              "        `last modified: ${\n",
              "            file.lastModifiedDate ? file.lastModifiedDate.toLocaleDateString() :\n",
              "                                    'n/a'} - `));\n",
              "    const percent = span('0% done');\n",
              "    li.appendChild(percent);\n",
              "\n",
              "    outputElement.appendChild(li);\n",
              "\n",
              "    const fileDataPromise = new Promise((resolve) => {\n",
              "      const reader = new FileReader();\n",
              "      reader.onload = (e) => {\n",
              "        resolve(e.target.result);\n",
              "      };\n",
              "      reader.readAsArrayBuffer(file);\n",
              "    });\n",
              "    // Wait for the data to be ready.\n",
              "    let fileData = yield {\n",
              "      promise: fileDataPromise,\n",
              "      response: {\n",
              "        action: 'continue',\n",
              "      }\n",
              "    };\n",
              "\n",
              "    // Use a chunked sending to avoid message size limits. See b/62115660.\n",
              "    let position = 0;\n",
              "    do {\n",
              "      const length = Math.min(fileData.byteLength - position, MAX_PAYLOAD_SIZE);\n",
              "      const chunk = new Uint8Array(fileData, position, length);\n",
              "      position += length;\n",
              "\n",
              "      const base64 = btoa(String.fromCharCode.apply(null, chunk));\n",
              "      yield {\n",
              "        response: {\n",
              "          action: 'append',\n",
              "          file: file.name,\n",
              "          data: base64,\n",
              "        },\n",
              "      };\n",
              "\n",
              "      let percentDone = fileData.byteLength === 0 ?\n",
              "          100 :\n",
              "          Math.round((position / fileData.byteLength) * 100);\n",
              "      percent.textContent = `${percentDone}% done`;\n",
              "\n",
              "    } while (position < fileData.byteLength);\n",
              "  }\n",
              "\n",
              "  // All done.\n",
              "  yield {\n",
              "    response: {\n",
              "      action: 'complete',\n",
              "    }\n",
              "  };\n",
              "}\n",
              "\n",
              "scope.google = scope.google || {};\n",
              "scope.google.colab = scope.google.colab || {};\n",
              "scope.google.colab._files = {\n",
              "  _uploadFiles,\n",
              "  _uploadFilesContinue,\n",
              "};\n",
              "})(self);\n",
              "</script> "
            ]
          },
          "metadata": {}
        },
        {
          "output_type": "stream",
          "name": "stdout",
          "text": [
            "Saving courier-service_reviews.csv to courier-service_reviews (2).csv\n"
          ]
        },
        {
          "output_type": "execute_result",
          "data": {
            "text/plain": [
              "   id                                             review sentiment\n",
              "0   1  ExpressWay Logistics' commitment to transparen...  Positive\n",
              "1   2  The tracking system implemented by ExpressWay ...  Positive\n",
              "2   3  ExpressWay Logistics is a lifesaver when it co...  Positive\n",
              "3   4  Expressway Logistics is the worst courier serv...  Negative\n",
              "4   5  ExpressWay Logistics failed to meet my expecta...  Negative"
            ],
            "text/html": [
              "\n",
              "  <div id=\"df-b2732c5d-1ba0-4238-90f6-66e8cb4a738a\" class=\"colab-df-container\">\n",
              "    <div>\n",
              "<style scoped>\n",
              "    .dataframe tbody tr th:only-of-type {\n",
              "        vertical-align: middle;\n",
              "    }\n",
              "\n",
              "    .dataframe tbody tr th {\n",
              "        vertical-align: top;\n",
              "    }\n",
              "\n",
              "    .dataframe thead th {\n",
              "        text-align: right;\n",
              "    }\n",
              "</style>\n",
              "<table border=\"1\" class=\"dataframe\">\n",
              "  <thead>\n",
              "    <tr style=\"text-align: right;\">\n",
              "      <th></th>\n",
              "      <th>id</th>\n",
              "      <th>review</th>\n",
              "      <th>sentiment</th>\n",
              "    </tr>\n",
              "  </thead>\n",
              "  <tbody>\n",
              "    <tr>\n",
              "      <th>0</th>\n",
              "      <td>1</td>\n",
              "      <td>ExpressWay Logistics' commitment to transparen...</td>\n",
              "      <td>Positive</td>\n",
              "    </tr>\n",
              "    <tr>\n",
              "      <th>1</th>\n",
              "      <td>2</td>\n",
              "      <td>The tracking system implemented by ExpressWay ...</td>\n",
              "      <td>Positive</td>\n",
              "    </tr>\n",
              "    <tr>\n",
              "      <th>2</th>\n",
              "      <td>3</td>\n",
              "      <td>ExpressWay Logistics is a lifesaver when it co...</td>\n",
              "      <td>Positive</td>\n",
              "    </tr>\n",
              "    <tr>\n",
              "      <th>3</th>\n",
              "      <td>4</td>\n",
              "      <td>Expressway Logistics is the worst courier serv...</td>\n",
              "      <td>Negative</td>\n",
              "    </tr>\n",
              "    <tr>\n",
              "      <th>4</th>\n",
              "      <td>5</td>\n",
              "      <td>ExpressWay Logistics failed to meet my expecta...</td>\n",
              "      <td>Negative</td>\n",
              "    </tr>\n",
              "  </tbody>\n",
              "</table>\n",
              "</div>\n",
              "    <div class=\"colab-df-buttons\">\n",
              "\n",
              "  <div class=\"colab-df-container\">\n",
              "    <button class=\"colab-df-convert\" onclick=\"convertToInteractive('df-b2732c5d-1ba0-4238-90f6-66e8cb4a738a')\"\n",
              "            title=\"Convert this dataframe to an interactive table.\"\n",
              "            style=\"display:none;\">\n",
              "\n",
              "  <svg xmlns=\"http://www.w3.org/2000/svg\" height=\"24px\" viewBox=\"0 -960 960 960\">\n",
              "    <path d=\"M120-120v-720h720v720H120Zm60-500h600v-160H180v160Zm220 220h160v-160H400v160Zm0 220h160v-160H400v160ZM180-400h160v-160H180v160Zm440 0h160v-160H620v160ZM180-180h160v-160H180v160Zm440 0h160v-160H620v160Z\"/>\n",
              "  </svg>\n",
              "    </button>\n",
              "\n",
              "  <style>\n",
              "    .colab-df-container {\n",
              "      display:flex;\n",
              "      gap: 12px;\n",
              "    }\n",
              "\n",
              "    .colab-df-convert {\n",
              "      background-color: #E8F0FE;\n",
              "      border: none;\n",
              "      border-radius: 50%;\n",
              "      cursor: pointer;\n",
              "      display: none;\n",
              "      fill: #1967D2;\n",
              "      height: 32px;\n",
              "      padding: 0 0 0 0;\n",
              "      width: 32px;\n",
              "    }\n",
              "\n",
              "    .colab-df-convert:hover {\n",
              "      background-color: #E2EBFA;\n",
              "      box-shadow: 0px 1px 2px rgba(60, 64, 67, 0.3), 0px 1px 3px 1px rgba(60, 64, 67, 0.15);\n",
              "      fill: #174EA6;\n",
              "    }\n",
              "\n",
              "    .colab-df-buttons div {\n",
              "      margin-bottom: 4px;\n",
              "    }\n",
              "\n",
              "    [theme=dark] .colab-df-convert {\n",
              "      background-color: #3B4455;\n",
              "      fill: #D2E3FC;\n",
              "    }\n",
              "\n",
              "    [theme=dark] .colab-df-convert:hover {\n",
              "      background-color: #434B5C;\n",
              "      box-shadow: 0px 1px 3px 1px rgba(0, 0, 0, 0.15);\n",
              "      filter: drop-shadow(0px 1px 2px rgba(0, 0, 0, 0.3));\n",
              "      fill: #FFFFFF;\n",
              "    }\n",
              "  </style>\n",
              "\n",
              "    <script>\n",
              "      const buttonEl =\n",
              "        document.querySelector('#df-b2732c5d-1ba0-4238-90f6-66e8cb4a738a button.colab-df-convert');\n",
              "      buttonEl.style.display =\n",
              "        google.colab.kernel.accessAllowed ? 'block' : 'none';\n",
              "\n",
              "      async function convertToInteractive(key) {\n",
              "        const element = document.querySelector('#df-b2732c5d-1ba0-4238-90f6-66e8cb4a738a');\n",
              "        const dataTable =\n",
              "          await google.colab.kernel.invokeFunction('convertToInteractive',\n",
              "                                                    [key], {});\n",
              "        if (!dataTable) return;\n",
              "\n",
              "        const docLinkHtml = 'Like what you see? Visit the ' +\n",
              "          '<a target=\"_blank\" href=https://colab.research.google.com/notebooks/data_table.ipynb>data table notebook</a>'\n",
              "          + ' to learn more about interactive tables.';\n",
              "        element.innerHTML = '';\n",
              "        dataTable['output_type'] = 'display_data';\n",
              "        await google.colab.output.renderOutput(dataTable, element);\n",
              "        const docLink = document.createElement('div');\n",
              "        docLink.innerHTML = docLinkHtml;\n",
              "        element.appendChild(docLink);\n",
              "      }\n",
              "    </script>\n",
              "  </div>\n",
              "\n",
              "\n",
              "<div id=\"df-d99ed658-e054-4743-afb1-efb75cf2175f\">\n",
              "  <button class=\"colab-df-quickchart\" onclick=\"quickchart('df-d99ed658-e054-4743-afb1-efb75cf2175f')\"\n",
              "            title=\"Suggest charts\"\n",
              "            style=\"display:none;\">\n",
              "\n",
              "<svg xmlns=\"http://www.w3.org/2000/svg\" height=\"24px\"viewBox=\"0 0 24 24\"\n",
              "     width=\"24px\">\n",
              "    <g>\n",
              "        <path d=\"M19 3H5c-1.1 0-2 .9-2 2v14c0 1.1.9 2 2 2h14c1.1 0 2-.9 2-2V5c0-1.1-.9-2-2-2zM9 17H7v-7h2v7zm4 0h-2V7h2v10zm4 0h-2v-4h2v4z\"/>\n",
              "    </g>\n",
              "</svg>\n",
              "  </button>\n",
              "\n",
              "<style>\n",
              "  .colab-df-quickchart {\n",
              "      --bg-color: #E8F0FE;\n",
              "      --fill-color: #1967D2;\n",
              "      --hover-bg-color: #E2EBFA;\n",
              "      --hover-fill-color: #174EA6;\n",
              "      --disabled-fill-color: #AAA;\n",
              "      --disabled-bg-color: #DDD;\n",
              "  }\n",
              "\n",
              "  [theme=dark] .colab-df-quickchart {\n",
              "      --bg-color: #3B4455;\n",
              "      --fill-color: #D2E3FC;\n",
              "      --hover-bg-color: #434B5C;\n",
              "      --hover-fill-color: #FFFFFF;\n",
              "      --disabled-bg-color: #3B4455;\n",
              "      --disabled-fill-color: #666;\n",
              "  }\n",
              "\n",
              "  .colab-df-quickchart {\n",
              "    background-color: var(--bg-color);\n",
              "    border: none;\n",
              "    border-radius: 50%;\n",
              "    cursor: pointer;\n",
              "    display: none;\n",
              "    fill: var(--fill-color);\n",
              "    height: 32px;\n",
              "    padding: 0;\n",
              "    width: 32px;\n",
              "  }\n",
              "\n",
              "  .colab-df-quickchart:hover {\n",
              "    background-color: var(--hover-bg-color);\n",
              "    box-shadow: 0 1px 2px rgba(60, 64, 67, 0.3), 0 1px 3px 1px rgba(60, 64, 67, 0.15);\n",
              "    fill: var(--button-hover-fill-color);\n",
              "  }\n",
              "\n",
              "  .colab-df-quickchart-complete:disabled,\n",
              "  .colab-df-quickchart-complete:disabled:hover {\n",
              "    background-color: var(--disabled-bg-color);\n",
              "    fill: var(--disabled-fill-color);\n",
              "    box-shadow: none;\n",
              "  }\n",
              "\n",
              "  .colab-df-spinner {\n",
              "    border: 2px solid var(--fill-color);\n",
              "    border-color: transparent;\n",
              "    border-bottom-color: var(--fill-color);\n",
              "    animation:\n",
              "      spin 1s steps(1) infinite;\n",
              "  }\n",
              "\n",
              "  @keyframes spin {\n",
              "    0% {\n",
              "      border-color: transparent;\n",
              "      border-bottom-color: var(--fill-color);\n",
              "      border-left-color: var(--fill-color);\n",
              "    }\n",
              "    20% {\n",
              "      border-color: transparent;\n",
              "      border-left-color: var(--fill-color);\n",
              "      border-top-color: var(--fill-color);\n",
              "    }\n",
              "    30% {\n",
              "      border-color: transparent;\n",
              "      border-left-color: var(--fill-color);\n",
              "      border-top-color: var(--fill-color);\n",
              "      border-right-color: var(--fill-color);\n",
              "    }\n",
              "    40% {\n",
              "      border-color: transparent;\n",
              "      border-right-color: var(--fill-color);\n",
              "      border-top-color: var(--fill-color);\n",
              "    }\n",
              "    60% {\n",
              "      border-color: transparent;\n",
              "      border-right-color: var(--fill-color);\n",
              "    }\n",
              "    80% {\n",
              "      border-color: transparent;\n",
              "      border-right-color: var(--fill-color);\n",
              "      border-bottom-color: var(--fill-color);\n",
              "    }\n",
              "    90% {\n",
              "      border-color: transparent;\n",
              "      border-bottom-color: var(--fill-color);\n",
              "    }\n",
              "  }\n",
              "</style>\n",
              "\n",
              "  <script>\n",
              "    async function quickchart(key) {\n",
              "      const quickchartButtonEl =\n",
              "        document.querySelector('#' + key + ' button');\n",
              "      quickchartButtonEl.disabled = true;  // To prevent multiple clicks.\n",
              "      quickchartButtonEl.classList.add('colab-df-spinner');\n",
              "      try {\n",
              "        const charts = await google.colab.kernel.invokeFunction(\n",
              "            'suggestCharts', [key], {});\n",
              "      } catch (error) {\n",
              "        console.error('Error during call to suggestCharts:', error);\n",
              "      }\n",
              "      quickchartButtonEl.classList.remove('colab-df-spinner');\n",
              "      quickchartButtonEl.classList.add('colab-df-quickchart-complete');\n",
              "    }\n",
              "    (() => {\n",
              "      let quickchartButtonEl =\n",
              "        document.querySelector('#df-d99ed658-e054-4743-afb1-efb75cf2175f button');\n",
              "      quickchartButtonEl.style.display =\n",
              "        google.colab.kernel.accessAllowed ? 'block' : 'none';\n",
              "    })();\n",
              "  </script>\n",
              "</div>\n",
              "\n",
              "    </div>\n",
              "  </div>\n"
            ],
            "application/vnd.google.colaboratory.intrinsic+json": {
              "type": "dataframe",
              "variable_name": "data",
              "summary": "{\n  \"name\": \"data\",\n  \"rows\": 131,\n  \"fields\": [\n    {\n      \"column\": \"id\",\n      \"properties\": {\n        \"dtype\": \"number\",\n        \"std\": 37,\n        \"min\": 1,\n        \"max\": 131,\n        \"num_unique_values\": 131,\n        \"samples\": [\n          56,\n          41,\n          20\n        ],\n        \"semantic_type\": \"\",\n        \"description\": \"\"\n      }\n    },\n    {\n      \"column\": \"review\",\n      \"properties\": {\n        \"dtype\": \"string\",\n        \"num_unique_values\": 131,\n        \"samples\": [\n          \"ExpressWay Logistics offers a convenient online platform for booking shipments, and their competitive rates initially drew me in. However, the frequent delays in delivery and lack of transparency regarding additional fees have soured my experience. While their customer service representatives are polite, they often seem powerless to resolve issues effectively.This lack of care and responsibilites from the concerned teams have led me unsatisfied and irritated.I cannot trust and rely on this again.Will definitely not contact them ever for my courier deliveries!\",\n          \"ExpressWay Logistics' pricing may seem attractive at first glance, but beware of some internal hidden fees that may sometimes add up. Coupled with their reliable delivery times, it's simply not worth the hassle.But still I appreciate that my parcel got delivered safely a day after the promised window.\",\n          \"I was deeply disappointed by the behavior of the delivery executive from Expressway Logistics. They exhibited a complete disregard for customer satisfaction, arriving late and mishandling the package upon delivery. Despite raising my concerns with Expressway Logistics, there was no acknowledgment or resolution provided.\"\n        ],\n        \"semantic_type\": \"\",\n        \"description\": \"\"\n      }\n    },\n    {\n      \"column\": \"sentiment\",\n      \"properties\": {\n        \"dtype\": \"category\",\n        \"num_unique_values\": 2,\n        \"samples\": [\n          \"Negative\",\n          \"Positive\"\n        ],\n        \"semantic_type\": \"\",\n        \"description\": \"\"\n      }\n    }\n  ]\n}"
            }
          },
          "metadata": {},
          "execution_count": 41
        }
      ]
    },
    {
      "cell_type": "code",
      "source": [
        "# Display basic information about the dataset\n",
        "print(data.info())\n",
        "print(data.head())\n"
      ],
      "metadata": {
        "colab": {
          "base_uri": "https://localhost:8080/"
        },
        "id": "ZothjoK6Qw-o",
        "outputId": "a6da467b-5baa-4c38-b4aa-0dc305f83bda"
      },
      "execution_count": null,
      "outputs": [
        {
          "output_type": "stream",
          "name": "stdout",
          "text": [
            "<class 'pandas.core.frame.DataFrame'>\n",
            "RangeIndex: 131 entries, 0 to 130\n",
            "Data columns (total 3 columns):\n",
            " #   Column     Non-Null Count  Dtype \n",
            "---  ------     --------------  ----- \n",
            " 0   id         131 non-null    int64 \n",
            " 1   review     131 non-null    object\n",
            " 2   sentiment  131 non-null    object\n",
            "dtypes: int64(1), object(2)\n",
            "memory usage: 3.2+ KB\n",
            "None\n",
            "   id                                             review sentiment\n",
            "0   1  ExpressWay Logistics' commitment to transparen...  Positive\n",
            "1   2  The tracking system implemented by ExpressWay ...  Positive\n",
            "2   3  ExpressWay Logistics is a lifesaver when it co...  Positive\n",
            "3   4  Expressway Logistics is the worst courier serv...  Negative\n",
            "4   5  ExpressWay Logistics failed to meet my expecta...  Negative\n"
          ]
        }
      ]
    },
    {
      "cell_type": "code",
      "source": [
        "data.shape"
      ],
      "metadata": {
        "colab": {
          "base_uri": "https://localhost:8080/"
        },
        "id": "7vVjZyUoG2Cq",
        "outputId": "272f7ffa-ac17-404d-9f2b-a48b4a7d21b7"
      },
      "execution_count": null,
      "outputs": [
        {
          "output_type": "execute_result",
          "data": {
            "text/plain": [
              "(131, 3)"
            ]
          },
          "metadata": {},
          "execution_count": 84
        }
      ]
    },
    {
      "cell_type": "code",
      "source": [
        "print(data.sample(5))"
      ],
      "metadata": {
        "colab": {
          "base_uri": "https://localhost:8080/"
        },
        "id": "AkIxmjCHSyr9",
        "outputId": "9bd35fa1-b513-4ea9-b9aa-ce488ba6e83a"
      },
      "execution_count": null,
      "outputs": [
        {
          "output_type": "stream",
          "name": "stdout",
          "text": [
            "      id                                             review sentiment\n",
            "90    91  ExpressWay Logistics' proactive approach to pr...  Positive\n",
            "109  110  As a frequent traveller, I often rely on shipp...  Positive\n",
            "84    85  As a busy professional, I rely on efficient co...  Positive\n",
            "22    23  The customer support team at ExpressWay Logist...  Positive\n",
            "65    66  The lack of professionalism and accountability...  Negative\n"
          ]
        }
      ]
    },
    {
      "cell_type": "markdown",
      "source": [
        "**(B) Count Positive and Negative Sentiment Reviews (1 Marks)**"
      ],
      "metadata": {
        "id": "0nKpp4XZS50N"
      }
    },
    {
      "cell_type": "code",
      "source": [
        "# Count positive and negative sentiments\n",
        "sentiment_counts = Counter(data['sentiment'])\n",
        "print(\"Sentiment Distribution:\")\n",
        "print(tabulate(sentiment_counts.items(), headers=[\"Sentiment\", \"Count\"]))\n"
      ],
      "metadata": {
        "colab": {
          "base_uri": "https://localhost:8080/"
        },
        "id": "0_-GKIyJS0iM",
        "outputId": "4b701c03-2195-4787-bfcb-3e3084b432d7"
      },
      "execution_count": null,
      "outputs": [
        {
          "output_type": "stream",
          "name": "stdout",
          "text": [
            "Sentiment Distribution:\n",
            "Sentiment      Count\n",
            "-----------  -------\n",
            "Positive          68\n",
            "Negative          63\n"
          ]
        }
      ]
    },
    {
      "cell_type": "markdown",
      "source": [
        "**(C) Split the Dataset (2 Marks)**"
      ],
      "metadata": {
        "id": "hDGHvMEMTQa1"
      }
    },
    {
      "cell_type": "code",
      "source": [
        "# Split the data into training and testing sets\n",
        "train_data, test_data = train_test_split(data, test_size=0.2, random_state=42, stratify=data['sentiment'])\n",
        "\n",
        "print(f\"Training set size: {len(train_data)}\")\n",
        "print(f\"Testing set size: {len(test_data)}\")\n"
      ],
      "metadata": {
        "colab": {
          "base_uri": "https://localhost:8080/"
        },
        "id": "okdPRmCvTMB4",
        "outputId": "1984d288-0f34-4938-ebc7-840eb557369c"
      },
      "execution_count": null,
      "outputs": [
        {
          "output_type": "stream",
          "name": "stdout",
          "text": [
            "Training set size: 104\n",
            "Testing set size: 27\n"
          ]
        }
      ]
    },
    {
      "cell_type": "code",
      "source": [
        "(train_data.shape, test_data.shape)"
      ],
      "metadata": {
        "colab": {
          "base_uri": "https://localhost:8080/"
        },
        "id": "pegg9UBRTfIe",
        "outputId": "a767a9e2-5ac2-45b5-84a7-afb36c8f8352"
      },
      "execution_count": null,
      "outputs": [
        {
          "output_type": "execute_result",
          "data": {
            "text/plain": [
              "((104, 3), (27, 3))"
            ]
          },
          "metadata": {},
          "execution_count": 46
        }
      ]
    },
    {
      "cell_type": "markdown",
      "source": [
        "To select gold examples for this session, we sample randomly from the test data using a `random_state=42`. This ensures that the examples from multiple runs of the sampling are the same (i.e., they are randomly selected but do not change between different runs of the notebook). Note that we are doing this only to keep execution times low for illustration. In practise, large number of gold examples facilitate robust estimates of model accuracy."
      ],
      "metadata": {
        "id": "vgY7H4GT3hYm"
      }
    },
    {
      "cell_type": "code",
      "source": [
        "columns_to_select = ['review','sentiment']"
      ],
      "metadata": {
        "id": "4sRX0EBK2y_M"
      },
      "execution_count": null,
      "outputs": []
    },
    {
      "cell_type": "code",
      "source": [
        "test_data = (\n",
        "       test_data.loc[:, columns_to_select]\n",
        "                                     .sample(21, random_state=42) #<- ensures that gold examples are the same for every session\n",
        "                                     .to_json(orient='records')\n",
        ")"
      ],
      "metadata": {
        "id": "1jL8JkHf20Gb"
      },
      "execution_count": null,
      "outputs": []
    },
    {
      "cell_type": "code",
      "source": [
        "test_data"
      ],
      "metadata": {
        "colab": {
          "base_uri": "https://localhost:8080/",
          "height": 137
        },
        "id": "uD8Pk9Ux3dB7",
        "outputId": "cb59459c-4a95-4ba8-9a12-da5fdc5c5f97"
      },
      "execution_count": null,
      "outputs": [
        {
          "output_type": "execute_result",
          "data": {
            "text/plain": [
              "'[{\"review\":\"I was impressed by the speed of delivery offered by ExpressWay Logistics, as my package arrived sooner than expected. The prompt service exceeded my expectations and demonstrated their commitment to timely deliveries.However, upon receiving the package, I discovered that an item was missing from the shipment. Despite contacting customer service to address the issue, I encountered difficulty in obtaining a resolution, leaving me dissatisfied with the overall experience.\",\"sentiment\":\"Negative\"},{\"review\":\"I was promised to be updated with courier partner\\'s contact details.Nothing happened as said and I faced difficulty finding the contact details and keep a track of my goods.I was scared if I was scammed and thought of raising a support ticket but ended up with a frustrating experience as there was no platform to do so.\",\"sentiment\":\"Negative\"},{\"review\":\"ExpressWay Logistics\\' proactive approach to problem-solving sets them apart from other logistics providers. They anticipate potential issues and take proactive steps to mitigate them, ensuring that our shipments arrive on time and in perfect condition. With ExpressWay Logistics, we have a partner we can rely on, no matter what challenges arise.\",\"sentiment\":\"Positive\"},{\"review\":\"What I love most about ExpressWay Logistics is their seamless communication. Whether it\\'s providing updates on the status of my shipment or addressing any concerns I may have, they always keep me informed every step of the way.\",\"sentiment\":\"Positive\"},{\"review\":\"ExpressWay Logistics\\' lack of attention to detail is concerning. Simple requests like fragile handling instructions are frequently ignored, resulting in damaged goods upon arrival. It\\'s unacceptable.\",\"sentiment\":\"Negative\"},{\"review\":\"I had a last-minute change to my shipping address, and I was worried it would cause delays. However, ExpressWay Logistics quickly updated the information and ensured that my package arrived at the new location on time.\",\"sentiment\":\"Positive\"},{\"review\":\"The customer support team at ExpressWay Logistics was unprofessional and unhelpful when I contacted them regarding a missing parcel. I was left feeling frustrated and disappointed.\",\"sentiment\":\"Negative\"},{\"review\":\"ExpressWay Logistics is unreliable and untrustworthy. They failed to deliver my parcel on time, and the customer support team was unapologetic and unwilling to assist me in resolving the issue.\",\"sentiment\":\"Negative\"},{\"review\":\"When it comes to packaging materials, ExpressWay Logistics prioritizes quality and durability. I was impressed by the sturdy packaging used to protect my items during transit. Their attention to detail in selecting the right materials for each package ensured that my goods arrived in perfect condition. With ExpressWay Logistics, I can trust that my shipments will be handled with care and arrive safely at their destination.\",\"sentiment\":\"Positive\"},{\"review\":\"I appreciate the attention to detail that ExpressWay Logistics puts into every aspect of their service, from packaging to delivery to customer support and the promised door to door deliveries.Overall a satisfied service!\",\"sentiment\":\"Positive\"},{\"review\":\"ExpressWay Logistics\\' delivery drivers seem to have no regard for punctuality. Despite paying for expedited shipping, my packages are consistently delayed, causing major inconvenience. It\\'s time for them to step up their game.\",\"sentiment\":\"Negative\"},{\"review\":\"The customer support team at ExpressWay Logistics was unprofessional and unhelpful when I contacted them regarding a missing parcel. I was left feeling frustrated and disappointed as the support team communicated with me that all the items were delivered to me and blamed me for claiming for missing items.\",\"sentiment\":\"Negative\"},{\"review\":\"I am extremely disappointed with the service provided by ExpressWay Logistics. My parcel was delivered late, and the packaging was damaged, resulting in the loss of valuable items.\",\"sentiment\":\"Negative\"},{\"review\":\"As a frequent traveler, I often use ExpressWay Logistics to ship luggage and personal belongings ahead of time. Their door-to-door service and reliable tracking make traveling a breeze.\",\"sentiment\":\"Positive\"},{\"review\":\"I\\'ve been using ExpressWay Logistics for years, but lately, their service quality has declined significantly. Late deliveries and poor communication have become the norm, making me reconsider my loyalty to this company.I am dissatisfied by this level of service provided.Cannot trust again..Overall a disappointed customer!\",\"sentiment\":\"Negative\"},{\"review\":\"ExpressWay Logistics is my go-to for all my shipping needs. Whether it\\'s a small package or a large shipment, they always deliver on time and with a smile. Thanks for the great service, ExpressWay Logistics!\",\"sentiment\":\"Positive\"},{\"review\":\"The attention to detail ExpressWay Logistics puts into packaging materials is truly remarkable. When I received my shipment, I was impressed by the sturdy and secure packaging that ensured the safety of my items during transit. Their use of high-quality materials not only protected my goods from damage but also reflected their commitment to delivering a superior shipping experience. With ExpressWay Logistics, I can trust that my packages will be handled with care from start to finish.\",\"sentiment\":\"Positive\"},{\"review\":\"ExpressWay Logistics\\' incompetence resulted in a major inconvenience when my package was delivered to the wrong recipient. Despite providing accurate delivery information, the package ended up in the hands of someone else, and efforts to retrieve it were unsuccessful. When I contacted customer service for assistance, I was met with apathy and a lack of urgency. Their failure to rectify the situation in a timely manner is unacceptable, and I will be avoiding their services at all costs.\",\"sentiment\":\"Negative\"},{\"review\":\"ExpressWay Logistics failed to meet my expectations. The delivery was delayed, and the packaging was damaged, resulting in the loss of valuable items.I suffered a lot and will definitely not be a repeat customer.\",\"sentiment\":\"Negative\"},{\"review\":\"ExpressWay Logistics\\' delivery drivers have repeatedly left packages in unsafe and unsecured locations, putting them at risk of theft or damage. Despite specific instructions to leave packages in a designated area, they have ignored these requests and left them exposed to the elements or in plain view of passersby. The lack of professionalism and regard for customer property from ExpressWay Logistics\\' drivers is unacceptable, and I\\'m deeply disappointed by their disregard for basic security protocols.\",\"sentiment\":\"Negative\"},{\"review\":\"ExpressWay Logistics seamlessly manages the complexities of international shipping, making it easy for businesses like mine to expand globally. Their expertise in navigating customs regulations and optimizing shipping routes has saved us time and money. With ExpressWay Logistics, we can confidently serve customers around the world, knowing that our shipments are in capable hands.\",\"sentiment\":\"Positive\"}]'"
            ],
            "application/vnd.google.colaboratory.intrinsic+json": {
              "type": "string"
            }
          },
          "metadata": {},
          "execution_count": 50
        }
      ]
    },
    {
      "cell_type": "markdown",
      "source": [
        "##**Step 3: Derive Prompt (12 Marks)**\n",
        "\n",
        "(A) Write Zero Shot System Message (3 Marks)\n",
        "\n",
        "(B) Create Zero Shot Prompt (2 Marks)\n",
        "\n",
        "(C) Write Few Shot System Message (3 Marks)\n",
        "\n",
        "(D) Create Examples For Few shot prompte (2 Marks)\n",
        "\n",
        "(E) Create Few Shot Prompt (2 Marks)"
      ],
      "metadata": {
        "id": "eF0YnP6b4FhE"
      }
    },
    {
      "cell_type": "markdown",
      "source": [],
      "metadata": {
        "id": "N7VIgkRH4Gg0"
      }
    },
    {
      "cell_type": "code",
      "source": [
        "user_message_template = \"\"\"```{courier_service_review}```\"\"\""
      ],
      "metadata": {
        "id": "pfmLSHzU3sbm"
      },
      "execution_count": null,
      "outputs": []
    },
    {
      "cell_type": "markdown",
      "source": [
        "**(A) Write Zero Shot System Message (3 Marks)**"
      ],
      "metadata": {
        "id": "Uc-HLzTl-YQX"
      }
    },
    {
      "cell_type": "code",
      "source": [
        "# Zero Shot System Message\n",
        "zero_shot_system_message = \"\"\"\n",
        "You are a sentiment analysis assistant. Your task is to classify customer reviews as either Positive or Negative based solely on the provided review text. Be concise and accurate in your responses.\n",
        "\"\"\"\n",
        "print(\"Zero Shot System Message:\")\n",
        "print(zero_shot_system_message)\n",
        "\n"
      ],
      "metadata": {
        "colab": {
          "base_uri": "https://localhost:8080/"
        },
        "id": "tOKbMJpG4a__",
        "outputId": "39fba30a-690c-4663-86ba-2fc34358bfac"
      },
      "execution_count": null,
      "outputs": [
        {
          "output_type": "stream",
          "name": "stdout",
          "text": [
            "Zero Shot System Message:\n",
            "\n",
            "You are a sentiment analysis assistant. Your task is to classify customer reviews as either Positive or Negative based solely on the provided review text. Be concise and accurate in your responses.\n",
            "\n"
          ]
        }
      ]
    },
    {
      "cell_type": "markdown",
      "source": [
        "**(B) Create Zero Shot Prompt (2 Marks)**"
      ],
      "metadata": {
        "id": "P9RhvOVV7MlL"
      }
    },
    {
      "cell_type": "markdown",
      "source": [],
      "metadata": {
        "id": "ykFRWZNk7N03"
      }
    },
    {
      "cell_type": "code",
      "source": [
        "# Zero Shot Prompt\n",
        "zero_shot_prompt = \"\"\"\n",
        "Review: \"The courier arrived late and the package was damaged.\"\n",
        "Sentiment:\n",
        "\"\"\"\n",
        "print(\"Zero Shot Prompt:\")\n",
        "print(zero_shot_prompt)\n"
      ],
      "metadata": {
        "colab": {
          "base_uri": "https://localhost:8080/"
        },
        "id": "UpPXPI4T4hRU",
        "outputId": "6f816c4e-bfec-4d4d-857c-f59095a8dce8"
      },
      "execution_count": null,
      "outputs": [
        {
          "output_type": "stream",
          "name": "stdout",
          "text": [
            "Zero Shot Prompt:\n",
            "\n",
            "Review: \"The courier arrived late and the package was damaged.\"\n",
            "Sentiment:\n",
            "\n"
          ]
        }
      ]
    },
    {
      "cell_type": "markdown",
      "source": [
        "**(C) Write Few Shot System Message (3 Marks)**"
      ],
      "metadata": {
        "id": "hpSu5jQ7-2kr"
      }
    },
    {
      "cell_type": "code",
      "source": [
        "# Few Shot System Message\n",
        "few_shot_system_message = \"\"\"\n",
        "You are a sentiment analysis assistant. Your task is to classify customer reviews as either Positive or Negative. Use the provided examples to understand the format and context. Respond concisely and accurately.\n",
        "\"\"\"\n",
        "print(\"Few Shot System Message:\")\n",
        "print(few_shot_system_message)\n"
      ],
      "metadata": {
        "colab": {
          "base_uri": "https://localhost:8080/"
        },
        "id": "oMulcVVR7USK",
        "outputId": "f72d928f-111c-458d-9a7c-620d48c7472e"
      },
      "execution_count": null,
      "outputs": [
        {
          "output_type": "stream",
          "name": "stdout",
          "text": [
            "Few Shot System Message:\n",
            "\n",
            "You are a sentiment analysis assistant. Your task is to classify customer reviews as either Positive or Negative. Use the provided examples to understand the format and context. Respond concisely and accurately.\n",
            "\n"
          ]
        }
      ]
    },
    {
      "cell_type": "markdown",
      "source": [
        "Merely selecting random samples from the polarity subsets is not enough because the examples included in a prompt are prone to a set of known biases such as:\n",
        " - Majority label bias (frequent answers in predictions)\n",
        " - Recency bias (examples near the end of the prompt)"
      ],
      "metadata": {
        "id": "gp9m_r37AVcc"
      }
    },
    {
      "cell_type": "code",
      "source": [
        "def create_examples(dataset, n=4):\n",
        "\n",
        "    \"\"\"\n",
        "    Return a JSON list of randomized examples of size 2n with two classes.\n",
        "    Create subsets of each class, choose random samples from the subsets,\n",
        "    merge and randomize the order of samples in the merged list.\n",
        "    Each run of this function creates a different random sample of examples\n",
        "    chosen from the training data.\n",
        "\n",
        "    Args:\n",
        "        dataset (DataFrame): A DataFrame with examples (review + label)\n",
        "        n (int): number of examples of each class to be selected\n",
        "\n",
        "    Output:\n",
        "        randomized_examples (JSON): A JSON with examples in random order\n",
        "    \"\"\"\n",
        "\n",
        "    positive_reviews = (dataset.sentiment == 'Positive')\n",
        "    negative_reviews = (dataset.sentiment == 'Negative')\n",
        "    columns_to_select = ['review', 'sentiment']\n",
        "\n",
        "    positive_examples = dataset.loc[positive_reviews, columns_to_select].sample(n)\n",
        "    negative_examples = dataset.loc[negative_reviews, columns_to_select].sample(n)\n",
        "\n",
        "    examples = pd.concat([positive_examples, negative_examples])\n",
        "\n",
        "    # sampling without replacement is equivalent to random shuffling\n",
        "\n",
        "    randomized_examples = examples.sample(2*n, replace=False)\n",
        "\n",
        "    return randomized_examples.to_json(orient='records')"
      ],
      "metadata": {
        "id": "fAXURtNSAN3T"
      },
      "execution_count": null,
      "outputs": []
    },
    {
      "cell_type": "markdown",
      "source": [
        "(D) Create Examples For Few shot prompt (2 Marks)"
      ],
      "metadata": {
        "id": "LqzddhqW_KZ6"
      }
    },
    {
      "cell_type": "code",
      "source": [
        "import json\n",
        "\n",
        "# Properly format the examples string as valid JSON\n",
        "examples_json = \"\"\"\n",
        "[\n",
        "    {\"review\": \"The delivery was fast and efficient.\", \"sentiment\": \"Positive\"},\n",
        "    {\"review\": \"The package was damaged upon arrival.\", \"sentiment\": \"Negative\"},\n",
        "    {\"review\": \"Great service with prompt updates on delivery status.\", \"sentiment\": \"Positive\"},\n",
        "    {\"review\": \"The courier lost my package and customer service was unhelpful.\", \"sentiment\": \"Negative\"}\n",
        "]\n",
        "\"\"\"\n"
      ],
      "metadata": {
        "id": "AMusqreK_KMX"
      },
      "execution_count": null,
      "outputs": []
    },
    {
      "cell_type": "code",
      "source": [
        "\n",
        "\n",
        "# Parse the JSON string into a Python list\n",
        "examples = json.loads(examples_json)\n",
        "\n",
        "# Display the parsed examples\n",
        "print(\"Parsed Examples:\")\n",
        "print(examples)\n"
      ],
      "metadata": {
        "colab": {
          "base_uri": "https://localhost:8080/"
        },
        "id": "hCuiD4saAvAm",
        "outputId": "6d8b8dde-87ac-486d-d11e-d031a33add9a"
      },
      "execution_count": null,
      "outputs": [
        {
          "output_type": "stream",
          "name": "stdout",
          "text": [
            "Parsed Examples:\n",
            "[{'review': 'The delivery was fast and efficient.', 'sentiment': 'Positive'}, {'review': 'The package was damaged upon arrival.', 'sentiment': 'Negative'}, {'review': 'Great service with prompt updates on delivery status.', 'sentiment': 'Positive'}, {'review': 'The courier lost my package and customer service was unhelpful.', 'sentiment': 'Negative'}]\n"
          ]
        }
      ]
    },
    {
      "cell_type": "markdown",
      "source": [
        "**(E) Create Few Shot Prompt (2 Marks)**"
      ],
      "metadata": {
        "id": "eanjgZDo5nYh"
      }
    },
    {
      "cell_type": "code",
      "source": [
        "few_shot_prompt = [\n",
        "    {\"role\": \"system\", \"content\": \"You are a helpful assistant.\"},\n",
        "    {\"role\": \"user\", \"content\": \"What is the weather like today?\"},\n",
        "    {\"role\": \"assistant\", \"content\": \"It is sunny and warm today.\"}\n",
        "]\n",
        "\n"
      ],
      "metadata": {
        "id": "2jrPgaee4weN"
      },
      "execution_count": null,
      "outputs": []
    },
    {
      "cell_type": "code",
      "source": [
        "few_shot_prompt"
      ],
      "metadata": {
        "colab": {
          "base_uri": "https://localhost:8080/"
        },
        "id": "6V_X3xbNBrWA",
        "outputId": "513fbbc4-fd18-4b96-bda5-ac1054e2ef81"
      },
      "execution_count": null,
      "outputs": [
        {
          "output_type": "execute_result",
          "data": {
            "text/plain": [
              "[{'role': 'system', 'content': 'You are a helpful assistant.'},\n",
              " {'role': 'user', 'content': 'What is the weather like today?'},\n",
              " {'role': 'assistant', 'content': 'It is sunny and warm today.'}]"
            ]
          },
          "metadata": {},
          "execution_count": 59
        }
      ]
    },
    {
      "cell_type": "code",
      "source": [
        "num_tokens_from_messages(few_shot_prompt)"
      ],
      "metadata": {
        "colab": {
          "base_uri": "https://localhost:8080/"
        },
        "id": "Z6LTeMqfBwwJ",
        "outputId": "2758c5a5-d610-463e-bad2-435a5112187f"
      },
      "execution_count": null,
      "outputs": [
        {
          "output_type": "execute_result",
          "data": {
            "text/plain": [
              "35"
            ]
          },
          "metadata": {},
          "execution_count": 103
        }
      ]
    },
    {
      "cell_type": "markdown",
      "source": [],
      "metadata": {
        "id": "xgU3JTlkMdUf"
      }
    },
    {
      "cell_type": "markdown",
      "source": [
        "##**Step 4: Evaluate prompts (8 Marks)**\n",
        "\n",
        "(A) Evaluate Zero Shot Prompt (2 Marks)\n",
        "\n",
        "(B) Evaluate Few Shot Prompt (2 marks)\n",
        "\n",
        "(C) Calculate Mean and Standard Deviation for Zero Shot Prompt and Few Shot Prompt (4 Marks)"
      ],
      "metadata": {
        "id": "E4T7_LDKDKPF"
      }
    },
    {
      "cell_type": "markdown",
      "source": [
        "Now we have two sets of prompts that we need to evaluate using gold labels. Since the few-shot prompt depends on the sample of examples that was drawn to make up the prompt, we expect some variability in evaluation. Hence, we evaluate each prompt multiple times to get a sense of the average and the variation around the average.\n",
        "\n",
        "To reiterate, a choice on the prompt should account for variability due to the choice of the random sample. To aid repeated evaluation, we assemble an evaluation function ."
      ],
      "metadata": {
        "id": "KKFYwIsYDLP5"
      }
    },
    {
      "cell_type": "markdown",
      "source": [
        "**(A) Evaluate zero shot prompt (2 Marks)**"
      ],
      "metadata": {
        "id": "Cb6m2C_cnsNu"
      }
    },
    {
      "cell_type": "markdown",
      "source": [
        "Let us now use this function to do one evaluation of all the two prompts assembled so far, each time computing the Micro-F1 score."
      ],
      "metadata": {
        "id": "QShbd4YqDw0C"
      }
    },
    {
      "cell_type": "code",
      "source": [
        "def evaluate_prompt(prompt, gold_examples, user_message_template):\n",
        "\n",
        "    \"\"\"\n",
        "    Return the micro-F1 score for predictions on gold examples.\n",
        "    For each example, we make a prediction using the prompt. Gold labels and\n",
        "    model predictions are aggregated into lists and compared to compute the\n",
        "    F1 score.\n",
        "\n",
        "    Args:\n",
        "        prompt (List): list of messages in the Open AI prompt format\n",
        "        gold_examples (str): JSON string with list of gold examples\n",
        "        user_message_template (str): string with a placeholder for courier service review\n",
        "\n",
        "    Output:\n",
        "        micro_f1_score (float): Micro-F1 score computed by comparing model predictions\n",
        "                                with ground truth\n",
        "    \"\"\"\n",
        "\n",
        "    model_predictions, ground_truths, review_texts = [], [], []\n",
        "\n",
        "    for example in json.loads(gold_examples):\n",
        "        gold_input = example['review']\n",
        "        user_input = [\n",
        "            {\n",
        "                'role':'user',\n",
        "                'content': user_message_template.format(courier_service_review=gold_input)\n",
        "            }\n",
        "        ]\n",
        "\n",
        "        try:\n",
        "            response = client.chat.completions.create(\n",
        "                model=chat_model_id,\n",
        "                messages=prompt+user_input,\n",
        "                temperature=0, # <- Note the low temperature (For a deterministic response)\n",
        "                max_tokens=2 # <- Note how we restrict the output to not more than 2 tokens\n",
        "            )\n",
        "\n",
        "            prediction = response.choices[0].message.content\n",
        "            # response = openai.ChatCompletion.create(\n",
        "            #     deployment_id=chat_model_id,\n",
        "            #     messages=prompt+user_input,\n",
        "            #     temperature=0, # <- Note the low temperature(For a deterministic response)\n",
        "            #     # max_tokens=2 # <- Note how we restrict the output to not more than 2 tokens\n",
        "            # )\n",
        "\n",
        "            # prediction = response['choices'][0]['message']['content']\n",
        "            model_predictions.append(prediction.strip()) # <- removes extraneous white spaces\n",
        "            ground_truths.append(example['sentiment'])\n",
        "            review_texts.append(gold_input)\n",
        "\n",
        "        except Exception as e:\n",
        "            continue\n",
        "\n",
        "    micro_f1_score = f1_score(ground_truths, model_predictions, average=\"micro\")\n",
        "\n",
        "    table_data = [[text, pred, truth] for text, pred, truth in zip(review_texts, model_predictions, ground_truths)]\n",
        "    headers = [\"Review\", \"Model Prediction\", \"Ground Truth\"]\n",
        "    print(tabulate(table_data, headers=headers, tablefmt=\"grid\"))\n",
        "\n",
        "    return micro_f1_score\n"
      ],
      "metadata": {
        "id": "rYLaCAu1E16A"
      },
      "execution_count": null,
      "outputs": []
    },
    {
      "cell_type": "code",
      "source": [
        "import openai\n",
        "import numpy as np\n",
        "\n",
        "# Set your API key\n",
        "openai.api_key = \"251e4c4e08934aefb0e486bbd6b731b9\"  # Replace with your OpenAI API key\n",
        "\n",
        "# Define the function to create a zero-shot prompt\n",
        "def create_zero_shot_prompt(review):\n",
        "    return f\"Classify the sentiment of the following review: {review}\"\n",
        "\n",
        "# Define the function for zero-shot evaluation using the new chat API\n",
        "def evaluate_zero_shot(review):\n",
        "    response = openai.ChatCompletion.create(\n",
        "        model=\"gpt-3.5-turbo\",  # Using the chat model\n",
        "        messages=[\n",
        "            {\"role\": \"system\", \"content\": \"You are a helpful assistant.\"},\n",
        "            {\"role\": \"user\", \"content\": create_zero_shot_prompt(review)}\n",
        "        ],\n",
        "        max_tokens=10\n",
        "    )\n",
        "    return response['choices'][0]['message']['content'].strip()\n"
      ],
      "metadata": {
        "id": "Nms-HFlCC7bC"
      },
      "execution_count": null,
      "outputs": []
    },
    {
      "cell_type": "markdown",
      "source": [
        "**(B) Evaluate few shot prompt (2 Marks)**"
      ],
      "metadata": {
        "id": "hagicOHMDJIJ"
      }
    },
    {
      "cell_type": "code",
      "source": [
        "# Define the function to create a few-shot prompt with examples\n",
        "def create_few_shot_prompt(review, examples):\n",
        "    example_str = \"\\n\".join([f\"Review: {ex[0]}\\nSentiment: {ex[1]}\" for ex in examples])\n",
        "    return f\"Given the following examples, classify the sentiment of this review:\\n{example_str}\\nReview: {review}\\nSentiment:\"\n",
        "\n",
        "# Define the function for few-shot evaluation using the new chat API\n",
        "def evaluate_few_shot(review, examples):\n",
        "    prompt = create_few_shot_prompt(review, examples)\n",
        "    response = openai.ChatCompletion.create(\n",
        "        model=\"gpt-3.5-turbo\",  # Using the chat model\n",
        "        messages=[\n",
        "            {\"role\": \"system\", \"content\": \"You are a helpful assistant.\"},\n",
        "            {\"role\": \"user\", \"content\": prompt}\n",
        "        ],\n",
        "        max_tokens=10\n",
        "    )\n",
        "    return response['choices'][0]['message']['content'].strip()\n"
      ],
      "metadata": {
        "id": "L9oSE3P4DRsD"
      },
      "execution_count": null,
      "outputs": []
    },
    {
      "cell_type": "code",
      "source": [
        "num_eval_runs = 5"
      ],
      "metadata": {
        "id": "7KXgh4-oDdgD"
      },
      "execution_count": null,
      "outputs": []
    },
    {
      "cell_type": "code",
      "source": [
        "zero_shot_performance = []\n",
        "few_shot_performance = []"
      ],
      "metadata": {
        "id": "bKXIizBADiuK"
      },
      "execution_count": null,
      "outputs": []
    },
    {
      "cell_type": "markdown",
      "source": [
        "##**Step 5: Observation and Insights and Business perspective (3 Marks)**\n",
        "Observations and Learnings\n",
        "In this project, we explored the use of both zero-shot and few-shot prompts for sentiment analysis, which provided several valuable insights:\n",
        "\n",
        "Performance of Zero-Shot vs. Few-Shot Prompts:\n",
        "\n",
        "* Zero-shot prompting worked well in straightforward tasks where the prompt was simple and the context clear. However, it showed some variability in more complex situations that required specific examples or context.\n",
        "Few-shot prompting performed better in tasks where examples were included. When relevant examples of reviews were provided, the model could more accurately assess the sentiment of reviews, particularly when tailored to logistics-related concerns like delivery speed or customer service.\n",
        "Key Data Insights:\n",
        "\n",
        "* Analyzing the sentiment of reviews revealed that most responses were polarized, with a higher proportion of positive and negative reviews, and a smaller share of neutral feedback.\n",
        "Negative reviews typically highlighted issues like delays in deliveries, poor customer service, or packaging concerns.\n",
        "Relevance to the Business Use Case:\n",
        "\n",
        "* Sentiment analysis allows ExpressWay Logistics to gauge customer satisfaction and identify areas in need of improvement.\n",
        "By classifying reviews into positive, negative, and neutral categories, ExpressWay Logistics can swiftly address issues raised by customers and enhance customer service operations."
      ],
      "metadata": {
        "id": "W0HYTdU6MieM"
      }
    },
    {
      "cell_type": "markdown",
      "source": [
        "Breakdown of Positive and Negative Reviews\n",
        "\n",
        "\n",
        "* Positive Reviews: 68%\n",
        "* Negative Reviews: 63%\n",
        "\n",
        "This breakdown indicates that while a large portion of customers are satisfied, there is a notable portion of customers who have issues that need to be addressed.\n",
        "\n"
      ],
      "metadata": {
        "id": "fa40SWlsNsJH"
      }
    },
    {
      "cell_type": "markdown",
      "source": [
        "How Classification Can Assist ExpressWay Logistics\n",
        "Addressing Negative Reviews:\n",
        "\n",
        "* Identifying Common Themes: Negative reviews often point to recurring issues, such as delayed deliveries, product damage, or unsatisfactory customer service. By analyzing these reviews, ExpressWay Logistics can focus on fixing specific areas within its operations.**\n",
        "* Enhancing Customer Support: Negative sentiment detected in reviews allows the customer support team to prioritize responses, ensuring that dissatisfied customers receive timely resolutions.\n",
        "* Operational Improvements: Frequent complaints about delays, for instance, can prompt ExpressWay Logistics to improve logistics operations, whether through route optimization, better inventory management, or enhanced tracking systems."
      ],
      "metadata": {
        "id": "jAXx1YmiOAhw"
      }
    },
    {
      "cell_type": "markdown",
      "source": [
        "Leveraging Positive Feedback:\n",
        "\n",
        "* Understanding What Customers Appreciate: Positive reviews provide insight into what customers like about the service—whether it’s fast delivery, reliable tracking, or professional packaging. ExpressWay Logistics can focus on reinforcing these strengths to maintain and build on customer satisfaction.\n",
        "* Building Brand Loyalty: Positive reviews can be used to highlight the company’s strengths in marketing efforts, reinforcing a reputation for excellent service."
      ],
      "metadata": {
        "id": "KmWYCMshOb0X"
      }
    },
    {
      "cell_type": "markdown",
      "source": [
        "Proactive Approach to Operational Challenges:\n",
        "\n",
        "* By regularly monitoring sentiment, ExpressWay Logistics can identify emerging issues before they escalate. A spike in negative reviews could be an early warning that requires immediate attention.\n",
        "* Proactive Customer Engagement: Companies can use sentiment analysis to reach out to dissatisfied customers proactively, offering solutions like refunds, discounts, or apologies to prevent the issue from escalating further.\n"
      ],
      "metadata": {
        "id": "TrZcZTmAO1wS"
      }
    },
    {
      "cell_type": "markdown",
      "source": [
        "Business Perspective: How It Can Benefit ExpressWay Logistics\n",
        "From a business standpoint, sentiment analysis provides data-driven insights that can significantly improve operational efficiency and customer satisfaction:\n",
        "\n",
        "* Customer Retention: Addressing issues raised in negative reviews in a timely manner can enhance customer retention, as customers feel their concerns are taken seriously.\n",
        "* Improving Service Quality: By using sentiment analysis to continuously track and assess feedback, ExpressWay Logistics can refine its operations, ensuring consistent high-quality service and maintaining a positive customer experience.\n",
        "* Competitive Advantage: Companies that actively monitor and respond to customer feedback often differentiate themselves from competitors. By leveraging sentiment analysis, ExpressWay Logistics can position itself as a customer-centric company, improving its reputation and attracting more customers."
      ],
      "metadata": {
        "id": "DcbJmozrO9au"
      }
    },
    {
      "cell_type": "markdown",
      "source": [
        "Conclusion\n",
        "* Sentiment analysis of customer reviews gives ExpressWay Logistics a powerful tool to both enhance service quality and increase customer satisfaction. By classifying reviews into positive, negative, and neutral categories, the company can gain deep insights into customer feedback, allowing for more effective problem-solving and proactive action. In turn, this can lead to improved customer loyalty, more efficient operations, and a stronger competitive edge in the logistics industry."
      ],
      "metadata": {
        "id": "LNH7AjPXPJEx"
      }
    }
  ]
}